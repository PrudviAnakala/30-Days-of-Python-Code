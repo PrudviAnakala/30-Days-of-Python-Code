{
  "nbformat": 4,
  "nbformat_minor": 0,
  "metadata": {
    "colab": {
      "name": "Day 3: Intro to Conditional Statements.ipynb",
      "provenance": [],
      "authorship_tag": "ABX9TyPyx6B0Ib9V7x49B3v3BZ8f",
      "include_colab_link": true
    },
    "kernelspec": {
      "name": "python3",
      "display_name": "Python 3"
    }
  },
  "cells": [
    {
      "cell_type": "markdown",
      "metadata": {
        "id": "view-in-github",
        "colab_type": "text"
      },
      "source": [
        "<a href=\"https://colab.research.google.com/github/PrudviAnakala/30-Days-of-Python-Code/blob/master/Day_3_Intro_to_Conditional_Statements.ipynb\" target=\"_parent\"><img src=\"https://colab.research.google.com/assets/colab-badge.svg\" alt=\"Open In Colab\"/></a>"
      ]
    },
    {
      "cell_type": "code",
      "metadata": {
        "id": "1IBEwptLtc7a",
        "colab_type": "code",
        "colab": {}
      },
      "source": [
        "import sys\n",
        "\n",
        "n = int(input())\n",
        "if(n %2 ==1):\n",
        "    print(\"Weird\")\n",
        "elif(n % 2==0 and 2<= n <=5):\n",
        "    print(\"Not Weird\")\n",
        "elif(n % 2==0 and 6<= n <=20):\n",
        "    print(\"Weird\")\n",
        "else:\n",
        "    print(\"Not Weird\")\n"
      ],
      "execution_count": 0,
      "outputs": []
    }
  ]
}