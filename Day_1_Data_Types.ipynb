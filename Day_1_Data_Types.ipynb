{
  "nbformat": 4,
  "nbformat_minor": 0,
  "metadata": {
    "colab": {
      "name": "Day-1-Data Types.ipynb",
      "provenance": [],
      "authorship_tag": "ABX9TyNt34lTFSPjeNIrMWIEbl7h",
      "include_colab_link": true
    },
    "kernelspec": {
      "name": "python3",
      "display_name": "Python 3"
    }
  },
  "cells": [
    {
      "cell_type": "markdown",
      "metadata": {
        "id": "view-in-github",
        "colab_type": "text"
      },
      "source": [
        "<a href=\"https://colab.research.google.com/github/PrudviAnakala/30-Days-of-Python-Code/blob/master/Day_1_Data_Types.ipynb\" target=\"_parent\"><img src=\"https://colab.research.google.com/assets/colab-badge.svg\" alt=\"Open In Colab\"/></a>"
      ]
    },
    {
      "cell_type": "code",
      "metadata": {
        "id": "yqKOac_vg5S-",
        "colab_type": "code",
        "outputId": "a7cb1520-bedb-44bd-bd17-48d3aaa8691d",
        "colab": {
          "base_uri": "https://localhost:8080/",
          "height": 118
        }
      },
      "source": [
        "i = 4\n",
        "d = 4.0\n",
        "s = 'HackerRank '\n",
        "\n",
        "#Declare Second  integer,Double and string varaibles.\n",
        "\n",
        "#Read and save an integer,DOuble and string to your variables. \n",
        "\n",
        "a=int(input())\n",
        "b=float(input())\n",
        "c=str(input())\n",
        "\n",
        "#Print the sum of both integer variables on a new line\n",
        "\n",
        "print(i + a)\n",
        "\n",
        "#Print the sum of the double variables on anew line\n",
        "\n",
        "print(round(d + b,1))\n",
        "\n",
        "#Concatenate and print the String variables in a new line\n",
        "#The 's' Variable above should be printes first\n",
        "\n",
        "print(s + c)\n"
      ],
      "execution_count": 0,
      "outputs": [
        {
          "output_type": "stream",
          "text": [
            "1\n",
            "0.01\n",
            "any string\n",
            "5\n",
            "4.0\n",
            "HackerRank any string\n"
          ],
          "name": "stdout"
        }
      ]
    }
  ]
}