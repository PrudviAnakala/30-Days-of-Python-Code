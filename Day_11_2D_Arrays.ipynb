{
  "nbformat": 4,
  "nbformat_minor": 0,
  "metadata": {
    "colab": {
      "name": "Day 11: 2D Arrays.ipynb",
      "provenance": [],
      "authorship_tag": "ABX9TyNUy2/vSuIf0giH2kGfRmUB"
    },
    "kernelspec": {
      "name": "python3",
      "display_name": "Python 3"
    }
  },
  "cells": [
    {
      "cell_type": "code",
      "metadata": {
        "id": "SGSYVtEdSGIZ",
        "colab_type": "code",
        "colab": {
          "base_uri": "https://localhost:8080/",
          "height": 134
        },
        "outputId": "c13d34c2-95b4-4ce5-94f6-d7630abad382"
      },
      "source": [
        "\n",
        "import sys\n",
        "arr = []\n",
        "for _ in range(6):\n",
        "    tmp = [int(x) for x in str(input()).split(\" \")]\n",
        "    arr.append(tmp)\n",
        "maximum = -9 * 7\n",
        "for i in range(6):\n",
        "    for j in range(6):\n",
        "        if j + 2 < 6 and i + 2 < 6:\n",
        "            result = arr[i][j] + arr[i][j + 1] + arr[i][j + 2] + arr[i + 1][j + 1] + arr[i + 2][j] + arr[i + 2][j + 1] + arr[i + 2][j + 2]\n",
        "            if result > maximum:\n",
        "                maximum = result\n",
        "print(maximum)"
      ],
      "execution_count": 1,
      "outputs": [
        {
          "output_type": "stream",
          "text": [
            "1 1 1 0 0 0\n",
            "0 1 0 0 0 0\n",
            "1 1 1 0 0 0\n",
            "0 0 2 4 4 0\n",
            "0 0 0 2 0 0\n",
            "0 0 1 2 4 0\n",
            "19\n"
          ],
          "name": "stdout"
        }
      ]
    }
  ]
}