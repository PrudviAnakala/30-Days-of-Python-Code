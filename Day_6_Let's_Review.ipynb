{
  "nbformat": 4,
  "nbformat_minor": 0,
  "metadata": {
    "colab": {
      "name": "Day 6: Let's Review.ipynb",
      "provenance": [],
      "authorship_tag": "ABX9TyMuP47w/eLLlQyzVUc92xDK",
      "include_colab_link": true
    },
    "kernelspec": {
      "name": "python3",
      "display_name": "Python 3"
    }
  },
  "cells": [
    {
      "cell_type": "markdown",
      "metadata": {
        "id": "view-in-github",
        "colab_type": "text"
      },
      "source": [
        "<a href=\"https://colab.research.google.com/github/PrudviAnakala/30-Days-of-Python-Code/blob/master/Day_6_Let's_Review.ipynb\" target=\"_parent\"><img src=\"https://colab.research.google.com/assets/colab-badge.svg\" alt=\"Open In Colab\"/></a>"
      ]
    },
    {
      "cell_type": "code",
      "metadata": {
        "id": "ix_lVyP5vVqU",
        "colab_type": "code",
        "colab": {
          "base_uri": "https://localhost:8080/",
          "height": 101
        },
        "outputId": "dcf536af-1214-494f-ae89-1f7cc06081d0"
      },
      "source": [
        "N = int(input())\n",
        "\n",
        "for i in range(0, N):\n",
        "\n",
        "    string = input()\n",
        "\n",
        "    for j in range(0, len(string)):\n",
        "        if j % 2 == 0:\n",
        "            print(string[j], end='')\n",
        "\n",
        "    print(\" \", end='')\n",
        "\n",
        "    for j in range(0, len(string)):\n",
        "        if j % 2 != 0:\n",
        "            print(string[j], end='')\n",
        "\n",
        "    print(\"\")\n"
      ],
      "execution_count": 2,
      "outputs": [
        {
          "output_type": "stream",
          "text": [
            "2\n",
            "hacker\n",
            "hce akr\n",
            "rank\n",
            "rn ak\n"
          ],
          "name": "stdout"
        }
      ]
    }
  ]
}