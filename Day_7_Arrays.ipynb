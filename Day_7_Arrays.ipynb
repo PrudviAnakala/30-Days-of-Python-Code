{
  "nbformat": 4,
  "nbformat_minor": 0,
  "metadata": {
    "colab": {
      "name": "Day 7: Arrays.ipynb",
      "provenance": [],
      "authorship_tag": "ABX9TyNcYYjye+KzrYCWYNWOaSJ7",
      "include_colab_link": true
    },
    "kernelspec": {
      "name": "python3",
      "display_name": "Python 3"
    }
  },
  "cells": [
    {
      "cell_type": "markdown",
      "metadata": {
        "id": "view-in-github",
        "colab_type": "text"
      },
      "source": [
        "<a href=\"https://colab.research.google.com/github/PrudviAnakala/30-Days-of-Python-Code/blob/master/Day_7_Arrays.ipynb\" target=\"_parent\"><img src=\"https://colab.research.google.com/assets/colab-badge.svg\" alt=\"Open In Colab\"/></a>"
      ]
    },
    {
      "cell_type": "code",
      "metadata": {
        "id": "KcqaWb-ltfO-",
        "colab_type": "code",
        "colab": {
          "base_uri": "https://localhost:8080/",
          "height": 67
        },
        "outputId": "6630b49e-1659-493a-c1f0-65648d51b3d1"
      },
      "source": [
        "import sys\n",
        "\n",
        "n = int(input())\n",
        "arr = str(input()).split(\" \")\n",
        "arr.reverse()\n",
        "for num in arr:\n",
        "    print(num + \" \",end=\"\")"
      ],
      "execution_count": 8,
      "outputs": [
        {
          "output_type": "stream",
          "text": [
            "4\n",
            "1 4 3 2\n",
            "2 3 4 1 "
          ],
          "name": "stdout"
        }
      ]
    }
  ]
}