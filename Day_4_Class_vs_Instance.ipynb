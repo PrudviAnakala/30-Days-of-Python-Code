{
  "nbformat": 4,
  "nbformat_minor": 0,
  "metadata": {
    "colab": {
      "name": "Day 4: Class vs. Instance.ipynb",
      "provenance": [],
      "authorship_tag": "ABX9TyOr83TdEHItqXR8tYQ7AYxS",
      "include_colab_link": true
    },
    "kernelspec": {
      "name": "python3",
      "display_name": "Python 3"
    }
  },
  "cells": [
    {
      "cell_type": "markdown",
      "metadata": {
        "id": "view-in-github",
        "colab_type": "text"
      },
      "source": [
        "<a href=\"https://colab.research.google.com/github/PrudviAnakala/30-Days-of-Python-Code/blob/master/Day_4_Class_vs_Instance.ipynb\" target=\"_parent\"><img src=\"https://colab.research.google.com/assets/colab-badge.svg\" alt=\"Open In Colab\"/></a>"
      ]
    },
    {
      "cell_type": "code",
      "metadata": {
        "id": "9eqOy0L90Oer",
        "colab_type": "code",
        "colab": {
          "base_uri": "https://localhost:8080/",
          "height": 319
        },
        "outputId": "3e45957d-ac2b-425e-ffc2-d32f6bbd04e9"
      },
      "source": [
        "class Person:\n",
        "    def __init__(self,initialAge):\n",
        "    # Add some more code to run some checks on initialAge\n",
        "        if initialAge < 0:\n",
        "            print(\"Age is not valid, setting age to 0.\")\n",
        "            self.age = 0\n",
        "        else:\n",
        "            self.age = initialAge\n",
        "\n",
        "    def amIOld(self):\n",
        "        # Do some computations in here and print out the correct statement to the console\n",
        "        if self.age < 13:\n",
        "            print(\"You are young.\")\n",
        "        elif self.age < 18:\n",
        "            print(\"You are a teenager.\")\n",
        "        else:\n",
        "            print(\"You are old.\" )\n",
        "\n",
        "    def yearPasses(self):\n",
        "        # Increment the age of the person in here\n",
        "        self.age += 1\n",
        "\n",
        "t = int(input())\n",
        "for i in range(0,t):\n",
        "  age=int(input())\n",
        "  p = Person(age)\n",
        "  p.amIOld()\n",
        "  for j in range(0,3):\n",
        "    p.yearPasses()\n",
        "  p.amIOld()\n",
        "  print(\"\")"
      ],
      "execution_count": 9,
      "outputs": [
        {
          "output_type": "stream",
          "text": [
            "4\n",
            "-1\n",
            "Age is not valid, setting age to 0.\n",
            "You are young.\n",
            "You are young.\n",
            "\n",
            "10\n",
            "You are young.\n",
            "You are a teenager.\n",
            "\n",
            "16\n",
            "You are a teenager.\n",
            "You are old.\n",
            "\n",
            "18\n",
            "You are old.\n",
            "You are old.\n",
            "\n"
          ],
          "name": "stdout"
        }
      ]
    }
  ]
}