{
  "nbformat": 4,
  "nbformat_minor": 0,
  "metadata": {
    "colab": {
      "name": "Day 12: Inheritance.ipynb",
      "provenance": [],
      "authorship_tag": "ABX9TyOg7odxTMEpMqQv7/lgbWNd"
    },
    "kernelspec": {
      "name": "python3",
      "display_name": "Python 3"
    }
  },
  "cells": [
    {
      "cell_type": "code",
      "metadata": {
        "id": "ZLYEM2PkFMqJ",
        "colab_type": "code",
        "colab": {
          "base_uri": "https://localhost:8080/",
          "height": 118
        },
        "outputId": "98064425-90f1-4d47-ce3c-8857a0ea4251"
      },
      "source": [
        "class Person:\n",
        "\tdef __init__(self, firstName, lastName, idNumber):\n",
        "\t\tself.firstName = firstName\n",
        "\t\tself.lastName = lastName\n",
        "\t\tself.idNumber = idNumber\n",
        "\tdef printPerson(self):\n",
        "\t\tprint(\"Name:\", self.lastName + \",\", self.firstName)\n",
        "\t\tprint(\"ID:\", self.idNumber)\n",
        "        \n",
        "class Student(Person):\n",
        "    #   Class Constructor\n",
        "    #   Parameters:\n",
        "    #   firstName - A string denoting the Person's first name.\n",
        "    #   lastName - A string denoting the Person's last name.\n",
        "    #   id - An integer denoting the Person's ID number.\n",
        "    #   scores - An array of integers denoting the Person's test scores.\n",
        "    #\n",
        "    # Write your constructor here\n",
        "    def __init__(self, firstName, lastName, idNumber ,scores):\n",
        "        Person.__init__(self, firstName, lastName, idNumber)\n",
        "        self.scores=scores\n",
        "    \n",
        "    #   Function Name: calculate\n",
        "    #   Return: A character denoting the grade.\n",
        "    #\n",
        "    # Write your function here\n",
        "    def calculate(self):\n",
        "        sum=0\n",
        "        for score in scores:\n",
        "            sum+=score\n",
        "        average=sum/len(scores)\n",
        "        if average < 40:\n",
        "            return 'T'\n",
        "        elif average < 55:\n",
        "            return 'D'\n",
        "        elif average < 70:\n",
        "            return 'P'\n",
        "        elif average < 80:\n",
        "            return 'A'\n",
        "        elif average < 90:\n",
        "            return 'E'\n",
        "        else:\n",
        "            return'O'\n",
        "\n",
        "line = input().split()\n",
        "firstName = line[0]\n",
        "lastName = line[1]\n",
        "idNum = line[2]\n",
        "numScores = int(input()) # not needed for Python\n",
        "scores = list( map(int, input().split()) )\n",
        "s = Student(firstName, lastName, idNum, scores)\n",
        "s.printPerson()\n",
        "print(\"Grade:\", s.calculate())"
      ],
      "execution_count": 2,
      "outputs": [
        {
          "output_type": "stream",
          "text": [
            "Heraldo Memelli 8135627\n",
            "2\n",
            "100 80\n",
            "Name: Memelli, Heraldo\n",
            "ID: 8135627\n",
            "Grade: O\n"
          ],
          "name": "stdout"
        }
      ]
    }
  ]
}