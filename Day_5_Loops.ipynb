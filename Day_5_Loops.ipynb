{
  "nbformat": 4,
  "nbformat_minor": 0,
  "metadata": {
    "colab": {
      "name": "Day 5: Loops.ipynb",
      "provenance": [],
      "authorship_tag": "ABX9TyOZJcSRVNtgkDixY9B8daaG",
      "include_colab_link": true
    },
    "kernelspec": {
      "name": "python3",
      "display_name": "Python 3"
    }
  },
  "cells": [
    {
      "cell_type": "markdown",
      "metadata": {
        "id": "view-in-github",
        "colab_type": "text"
      },
      "source": [
        "<a href=\"https://colab.research.google.com/github/PrudviAnakala/30-Days-of-Python-Code/blob/master/Day_5_Loops.ipynb\" target=\"_parent\"><img src=\"https://colab.research.google.com/assets/colab-badge.svg\" alt=\"Open In Colab\"/></a>"
      ]
    },
    {
      "cell_type": "code",
      "metadata": {
        "id": "2mUpfHTpvkDf",
        "colab_type": "code",
        "colab": {
          "base_uri": "https://localhost:8080/",
          "height": 202
        },
        "outputId": "26463fde-8619-4ba0-cfac-db9b5e89a5ff"
      },
      "source": [
        "n = int(input())\n",
        "\n",
        "for i in range(1, 11):\n",
        "    print(str(n) + \" x \" + str(i) + \" = \" + str(n * i))"
      ],
      "execution_count": 4,
      "outputs": [
        {
          "output_type": "stream",
          "text": [
            "27\n",
            "27 x 1 = 27\n",
            "27 x 2 = 54\n",
            "27 x 3 = 81\n",
            "27 x 4 = 108\n",
            "27 x 5 = 135\n",
            "27 x 6 = 162\n",
            "27 x 7 = 189\n",
            "27 x 8 = 216\n",
            "27 x 9 = 243\n",
            "27 x 10 = 270\n"
          ],
          "name": "stdout"
        }
      ]
    }
  ]
}