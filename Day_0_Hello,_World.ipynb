{
  "nbformat": 4,
  "nbformat_minor": 0,
  "metadata": {
    "colab": {
      "name": "Day 0: Hello, World.ipynb",
      "provenance": [],
      "authorship_tag": "ABX9TyMsH+8jrPLWab/MWbrnsJ8B",
      "include_colab_link": true
    },
    "kernelspec": {
      "name": "python3",
      "display_name": "Python 3"
    }
  },
  "cells": [
    {
      "cell_type": "markdown",
      "metadata": {
        "id": "view-in-github",
        "colab_type": "text"
      },
      "source": [
        "<a href=\"https://colab.research.google.com/github/PrudviAnakala/30-Days-of-Python-Code/blob/master/Day_0_Hello%2C_World.ipynb\" target=\"_parent\"><img src=\"https://colab.research.google.com/assets/colab-badge.svg\" alt=\"Open In Colab\"/></a>"
      ]
    },
    {
      "cell_type": "code",
      "metadata": {
        "id": "TDJOzoy8pURk",
        "colab_type": "code",
        "outputId": "dffb6ac4-f8e4-4800-d5b0-819a10531d83",
        "colab": {
          "base_uri": "https://localhost:8080/",
          "height": 50
        }
      },
      "source": [
        "#Read a full line of input from stdin and saved it to our dynamically typed variable , input_string\n",
        "\n",
        "input_string = input()\n",
        "\n",
        "#Print a string literal to \"Hello,World. \" to stdout\n",
        "\n",
        "print(\"Hello,World.\")\n",
        "\n",
        "#Write a line of code that it prints the content of input_string to stdout."
      ],
      "execution_count": 0,
      "outputs": [
        {
          "output_type": "stream",
          "text": [
            "Welcome to 30 Days of Code!\n",
            "Hello,World.\n"
          ],
          "name": "stdout"
        }
      ]
    }
  ]
}