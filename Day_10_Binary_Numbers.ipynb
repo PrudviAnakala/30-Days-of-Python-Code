{
  "nbformat": 4,
  "nbformat_minor": 0,
  "metadata": {
    "colab": {
      "name": "Day 10: Binary Numbers.ipynb",
      "provenance": [],
      "authorship_tag": "ABX9TyP9RrTDLq/u+XNf6eQ+OFzX"
    },
    "kernelspec": {
      "name": "python3",
      "display_name": "Python 3"
    }
  },
  "cells": [
    {
      "cell_type": "code",
      "metadata": {
        "id": "6B7-sGJIC7lO",
        "colab_type": "code",
        "colab": {
          "base_uri": "https://localhost:8080/",
          "height": 50
        },
        "outputId": "384eabe6-5fff-445a-c532-d91e82a15333"
      },
      "source": [
        "import sys\n",
        "n = int(input())\n",
        "result =0\n",
        "maximum=0\n",
        "while n>0:\n",
        "    if n%2==1:\n",
        "        result=result+1\n",
        "        if result > maximum:\n",
        "            maximum =result \n",
        "    else:\n",
        "        result=0\n",
        "    n=n//2\n",
        "print(maximum)"
      ],
      "execution_count": 1,
      "outputs": [
        {
          "output_type": "stream",
          "text": [
            "5\n",
            "1\n"
          ],
          "name": "stdout"
        }
      ]
    }
  ]
}