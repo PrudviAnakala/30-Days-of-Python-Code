{
  "nbformat": 4,
  "nbformat_minor": 0,
  "metadata": {
    "colab": {
      "name": "Day 8: Dictionaries and Maps.ipynb",
      "provenance": [],
      "authorship_tag": "ABX9TyPUxV2KzUxwMQkrBkQ7Ac20"
    },
    "kernelspec": {
      "name": "python3",
      "display_name": "Python 3"
    }
  },
  "cells": [
    {
      "cell_type": "code",
      "metadata": {
        "id": "wP2wnYkmVsmp",
        "colab_type": "code",
        "colab": {
          "base_uri": "https://localhost:8080/",
          "height": 185
        },
        "outputId": "f84e10be-a659-41fc-f9d0-b651c59c501b"
      },
      "source": [
        "  \n",
        "num = int(input())\n",
        "\n",
        "phone_book = {}\n",
        "\n",
        "for i in range(0, num):\n",
        "    entry = str(input()).split(\" \")\n",
        "\n",
        "    name = entry[0]\n",
        "    phone = int(entry[1])\n",
        "    phone_book[name] = phone\n",
        "\n",
        "for j in range(0, num):\n",
        "    name = str(input())\n",
        "\n",
        "    if name in phone_book:\n",
        "        phone = phone_book[name]\n",
        "        print(name + \"=\" + str(phone))\n",
        "    else:\n",
        "        print(\"Not found\")"
      ],
      "execution_count": 6,
      "outputs": [
        {
          "output_type": "stream",
          "text": [
            "3\n",
            "sam 99912222\n",
            "tom 11122222\n",
            "harry 12299933\n",
            "sam\n",
            "sam=99912222\n",
            "tom\n",
            "tom=11122222\n",
            "harry\n",
            "harry=12299933\n"
          ],
          "name": "stdout"
        }
      ]
    }
  ]
}