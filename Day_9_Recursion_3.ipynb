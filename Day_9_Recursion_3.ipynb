{
  "nbformat": 4,
  "nbformat_minor": 0,
  "metadata": {
    "colab": {
      "name": "Day 9: Recursion 3.ipynb",
      "provenance": [],
      "authorship_tag": "ABX9TyMB0GobWMKM9DKw4TS3kmE5"
    },
    "kernelspec": {
      "name": "python3",
      "display_name": "Python 3"
    }
  },
  "cells": [
    {
      "cell_type": "code",
      "metadata": {
        "id": "jeBj_OY0htDf",
        "colab_type": "code",
        "colab": {
          "base_uri": "https://localhost:8080/",
          "height": 67
        },
        "outputId": "fdf88b2e-2eb3-47b0-86dd-5301912401d0"
      },
      "source": [
        "def factorial(num):\n",
        "    return 1 if num == 1 else factorial(num - 1) * num\n",
        "print('')\n",
        "print(factorial(int(input())))"
      ],
      "execution_count": 3,
      "outputs": [
        {
          "output_type": "stream",
          "text": [
            "\n",
            "3\n",
            "6\n"
          ],
          "name": "stdout"
        }
      ]
    }
  ]
}