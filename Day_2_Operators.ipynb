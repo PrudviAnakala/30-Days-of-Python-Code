{
  "nbformat": 4,
  "nbformat_minor": 0,
  "metadata": {
    "colab": {
      "name": "Day 2: Operators.ipynb",
      "provenance": [],
      "authorship_tag": "ABX9TyMEugS1MCkHt3PvixfEQN//",
      "include_colab_link": true
    },
    "kernelspec": {
      "name": "python3",
      "display_name": "Python 3"
    }
  },
  "cells": [
    {
      "cell_type": "markdown",
      "metadata": {
        "id": "view-in-github",
        "colab_type": "text"
      },
      "source": [
        "<a href=\"https://colab.research.google.com/github/PrudviAnakala/30-Days-of-Python-Code/blob/master/Day_2_Operators.ipynb\" target=\"_parent\"><img src=\"https://colab.research.google.com/assets/colab-badge.svg\" alt=\"Open In Colab\"/></a>"
      ]
    },
    {
      "cell_type": "code",
      "metadata": {
        "id": "Wr_uws_Mmlas",
        "colab_type": "code",
        "colab": {
          "base_uri": "https://localhost:8080/",
          "height": 84
        },
        "outputId": "fdb4f9ba-a520-4332-da4c-03bf8cd4d20b"
      },
      "source": [
        "import sys\n",
        "\n",
        "meal_cost = float(input())\n",
        "tip_percent = int(input())\n",
        "tax_percent = int(input())\n",
        "\n",
        "tip = meal_cost * tip_percent / 100\n",
        "tax= meal_cost * tax_percent / 100\n",
        "totalCost = round(meal_cost + tip + tax)\n",
        "\n",
        "print((totalCost))"
      ],
      "execution_count": 1,
      "outputs": [
        {
          "output_type": "stream",
          "text": [
            "12.00\n",
            "20\n",
            "8\n",
            "15\n"
          ],
          "name": "stdout"
        }
      ]
    }
  ]
}